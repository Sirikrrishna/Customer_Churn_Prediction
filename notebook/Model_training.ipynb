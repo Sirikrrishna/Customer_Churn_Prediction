{
 "cells": [
  {
   "cell_type": "code",
   "execution_count": 2,
   "metadata": {},
   "outputs": [],
   "source": [
    "import pandas as pd\n",
    "import numpy as np\n",
    "import matplotlib.pyplot as plt\n",
    "import seaborn as sns\n",
    "import plotly.express as px\n",
    "import warnings\n",
    "\n",
    "warnings.filterwarnings(\"ignore\")\n",
    "\n",
    "%matplotlib inline"
   ]
  },
  {
   "cell_type": "code",
   "execution_count": 4,
   "metadata": {},
   "outputs": [],
   "source": [
    "df = pd.read_csv('data/Telco-Customer-Churn.csv')"
   ]
  },
  {
   "cell_type": "code",
   "execution_count": 5,
   "metadata": {},
   "outputs": [
    {
     "name": "stdout",
     "output_type": "stream",
     "text": [
      "(7043, 21)\n"
     ]
    }
   ],
   "source": [
    "print(df.shape)"
   ]
  },
  {
   "cell_type": "code",
   "execution_count": 6,
   "metadata": {},
   "outputs": [
    {
     "data": {
      "text/html": [
       "<div>\n",
       "<style scoped>\n",
       "    .dataframe tbody tr th:only-of-type {\n",
       "        vertical-align: middle;\n",
       "    }\n",
       "\n",
       "    .dataframe tbody tr th {\n",
       "        vertical-align: top;\n",
       "    }\n",
       "\n",
       "    .dataframe thead th {\n",
       "        text-align: right;\n",
       "    }\n",
       "</style>\n",
       "<table border=\"1\" class=\"dataframe\">\n",
       "  <thead>\n",
       "    <tr style=\"text-align: right;\">\n",
       "      <th></th>\n",
       "      <th>customerID</th>\n",
       "      <th>gender</th>\n",
       "      <th>SeniorCitizen</th>\n",
       "      <th>Partner</th>\n",
       "      <th>Dependents</th>\n",
       "      <th>tenure</th>\n",
       "      <th>PhoneService</th>\n",
       "      <th>MultipleLines</th>\n",
       "      <th>InternetService</th>\n",
       "      <th>OnlineSecurity</th>\n",
       "      <th>...</th>\n",
       "      <th>DeviceProtection</th>\n",
       "      <th>TechSupport</th>\n",
       "      <th>StreamingTV</th>\n",
       "      <th>StreamingMovies</th>\n",
       "      <th>Contract</th>\n",
       "      <th>PaperlessBilling</th>\n",
       "      <th>PaymentMethod</th>\n",
       "      <th>MonthlyCharges</th>\n",
       "      <th>TotalCharges</th>\n",
       "      <th>Churn</th>\n",
       "    </tr>\n",
       "  </thead>\n",
       "  <tbody>\n",
       "    <tr>\n",
       "      <th>0</th>\n",
       "      <td>7590-VHVEG</td>\n",
       "      <td>Female</td>\n",
       "      <td>0</td>\n",
       "      <td>Yes</td>\n",
       "      <td>No</td>\n",
       "      <td>1</td>\n",
       "      <td>No</td>\n",
       "      <td>No phone service</td>\n",
       "      <td>DSL</td>\n",
       "      <td>No</td>\n",
       "      <td>...</td>\n",
       "      <td>No</td>\n",
       "      <td>No</td>\n",
       "      <td>No</td>\n",
       "      <td>No</td>\n",
       "      <td>Month-to-month</td>\n",
       "      <td>Yes</td>\n",
       "      <td>Electronic check</td>\n",
       "      <td>29.85</td>\n",
       "      <td>29.85</td>\n",
       "      <td>No</td>\n",
       "    </tr>\n",
       "    <tr>\n",
       "      <th>1</th>\n",
       "      <td>5575-GNVDE</td>\n",
       "      <td>Male</td>\n",
       "      <td>0</td>\n",
       "      <td>No</td>\n",
       "      <td>No</td>\n",
       "      <td>34</td>\n",
       "      <td>Yes</td>\n",
       "      <td>No</td>\n",
       "      <td>DSL</td>\n",
       "      <td>Yes</td>\n",
       "      <td>...</td>\n",
       "      <td>Yes</td>\n",
       "      <td>No</td>\n",
       "      <td>No</td>\n",
       "      <td>No</td>\n",
       "      <td>One year</td>\n",
       "      <td>No</td>\n",
       "      <td>Mailed check</td>\n",
       "      <td>56.95</td>\n",
       "      <td>1889.5</td>\n",
       "      <td>No</td>\n",
       "    </tr>\n",
       "    <tr>\n",
       "      <th>2</th>\n",
       "      <td>3668-QPYBK</td>\n",
       "      <td>Male</td>\n",
       "      <td>0</td>\n",
       "      <td>No</td>\n",
       "      <td>No</td>\n",
       "      <td>2</td>\n",
       "      <td>Yes</td>\n",
       "      <td>No</td>\n",
       "      <td>DSL</td>\n",
       "      <td>Yes</td>\n",
       "      <td>...</td>\n",
       "      <td>No</td>\n",
       "      <td>No</td>\n",
       "      <td>No</td>\n",
       "      <td>No</td>\n",
       "      <td>Month-to-month</td>\n",
       "      <td>Yes</td>\n",
       "      <td>Mailed check</td>\n",
       "      <td>53.85</td>\n",
       "      <td>108.15</td>\n",
       "      <td>Yes</td>\n",
       "    </tr>\n",
       "    <tr>\n",
       "      <th>3</th>\n",
       "      <td>7795-CFOCW</td>\n",
       "      <td>Male</td>\n",
       "      <td>0</td>\n",
       "      <td>No</td>\n",
       "      <td>No</td>\n",
       "      <td>45</td>\n",
       "      <td>No</td>\n",
       "      <td>No phone service</td>\n",
       "      <td>DSL</td>\n",
       "      <td>Yes</td>\n",
       "      <td>...</td>\n",
       "      <td>Yes</td>\n",
       "      <td>Yes</td>\n",
       "      <td>No</td>\n",
       "      <td>No</td>\n",
       "      <td>One year</td>\n",
       "      <td>No</td>\n",
       "      <td>Bank transfer (automatic)</td>\n",
       "      <td>42.30</td>\n",
       "      <td>1840.75</td>\n",
       "      <td>No</td>\n",
       "    </tr>\n",
       "    <tr>\n",
       "      <th>4</th>\n",
       "      <td>9237-HQITU</td>\n",
       "      <td>Female</td>\n",
       "      <td>0</td>\n",
       "      <td>No</td>\n",
       "      <td>No</td>\n",
       "      <td>2</td>\n",
       "      <td>Yes</td>\n",
       "      <td>No</td>\n",
       "      <td>Fiber optic</td>\n",
       "      <td>No</td>\n",
       "      <td>...</td>\n",
       "      <td>No</td>\n",
       "      <td>No</td>\n",
       "      <td>No</td>\n",
       "      <td>No</td>\n",
       "      <td>Month-to-month</td>\n",
       "      <td>Yes</td>\n",
       "      <td>Electronic check</td>\n",
       "      <td>70.70</td>\n",
       "      <td>151.65</td>\n",
       "      <td>Yes</td>\n",
       "    </tr>\n",
       "  </tbody>\n",
       "</table>\n",
       "<p>5 rows × 21 columns</p>\n",
       "</div>"
      ],
      "text/plain": [
       "   customerID  gender  SeniorCitizen Partner Dependents  tenure PhoneService  \\\n",
       "0  7590-VHVEG  Female              0     Yes         No       1           No   \n",
       "1  5575-GNVDE    Male              0      No         No      34          Yes   \n",
       "2  3668-QPYBK    Male              0      No         No       2          Yes   \n",
       "3  7795-CFOCW    Male              0      No         No      45           No   \n",
       "4  9237-HQITU  Female              0      No         No       2          Yes   \n",
       "\n",
       "      MultipleLines InternetService OnlineSecurity  ... DeviceProtection  \\\n",
       "0  No phone service             DSL             No  ...               No   \n",
       "1                No             DSL            Yes  ...              Yes   \n",
       "2                No             DSL            Yes  ...               No   \n",
       "3  No phone service             DSL            Yes  ...              Yes   \n",
       "4                No     Fiber optic             No  ...               No   \n",
       "\n",
       "  TechSupport StreamingTV StreamingMovies        Contract PaperlessBilling  \\\n",
       "0          No          No              No  Month-to-month              Yes   \n",
       "1          No          No              No        One year               No   \n",
       "2          No          No              No  Month-to-month              Yes   \n",
       "3         Yes          No              No        One year               No   \n",
       "4          No          No              No  Month-to-month              Yes   \n",
       "\n",
       "               PaymentMethod MonthlyCharges  TotalCharges Churn  \n",
       "0           Electronic check          29.85         29.85    No  \n",
       "1               Mailed check          56.95        1889.5    No  \n",
       "2               Mailed check          53.85        108.15   Yes  \n",
       "3  Bank transfer (automatic)          42.30       1840.75    No  \n",
       "4           Electronic check          70.70        151.65   Yes  \n",
       "\n",
       "[5 rows x 21 columns]"
      ]
     },
     "execution_count": 6,
     "metadata": {},
     "output_type": "execute_result"
    }
   ],
   "source": [
    "df.head()"
   ]
  },
  {
   "cell_type": "code",
   "execution_count": 7,
   "metadata": {},
   "outputs": [
    {
     "data": {
      "text/plain": [
       "0"
      ]
     },
     "execution_count": 7,
     "metadata": {},
     "output_type": "execute_result"
    }
   ],
   "source": [
    "df.duplicated().sum()"
   ]
  },
  {
   "cell_type": "code",
   "execution_count": 8,
   "metadata": {},
   "outputs": [],
   "source": [
    "df.drop('customerID', inplace=True, axis=1)"
   ]
  },
  {
   "cell_type": "code",
   "execution_count": 9,
   "metadata": {},
   "outputs": [],
   "source": [
    "# Convert 'TotalCharges' to numeric, coercing errors to NaN\n",
    "df['TotalCharges'] = pd.to_numeric(df['TotalCharges'], errors='coerce')\n",
    "\n",
    "# Fill NaN values if necessary (for example, with 0)\n",
    "df['TotalCharges'].fillna(0, inplace=True)\n",
    "\n",
    "# Convert to int\n",
    "df['TotalCharges'] = df['TotalCharges'].astype(float)"
   ]
  },
  {
   "cell_type": "code",
   "execution_count": 11,
   "metadata": {},
   "outputs": [
    {
     "name": "stdout",
     "output_type": "stream",
     "text": [
      "     tenure  MonthlyCharges  TotalCharges  gender_Female  gender_Male  \\\n",
      "0 -1.277445       -1.160323     -0.992611            1.0          0.0   \n",
      "1  0.066327       -0.259629     -0.172165            0.0          1.0   \n",
      "2 -1.236724       -0.362660     -0.958066            0.0          1.0   \n",
      "3  0.514251       -0.746535     -0.193672            0.0          1.0   \n",
      "4 -1.236724        0.197365     -0.938874            1.0          0.0   \n",
      "\n",
      "   Partner_No  Partner_Yes  OnlineBackup_No  OnlineBackup_No internet service  \\\n",
      "0         0.0          1.0              0.0                               0.0   \n",
      "1         1.0          0.0              1.0                               0.0   \n",
      "2         1.0          0.0              0.0                               0.0   \n",
      "3         1.0          0.0              1.0                               0.0   \n",
      "4         1.0          0.0              1.0                               0.0   \n",
      "\n",
      "   OnlineBackup_Yes  ...  PaperlessBilling_No  PaperlessBilling_Yes  \\\n",
      "0               1.0  ...                  0.0                   1.0   \n",
      "1               0.0  ...                  1.0                   0.0   \n",
      "2               1.0  ...                  0.0                   1.0   \n",
      "3               0.0  ...                  1.0                   0.0   \n",
      "4               0.0  ...                  0.0                   1.0   \n",
      "\n",
      "   PhoneService_No  PhoneService_Yes  StreamingMovies_No  \\\n",
      "0              1.0               0.0                 1.0   \n",
      "1              0.0               1.0                 1.0   \n",
      "2              0.0               1.0                 1.0   \n",
      "3              1.0               0.0                 1.0   \n",
      "4              0.0               1.0                 1.0   \n",
      "\n",
      "   StreamingMovies_No internet service  StreamingMovies_Yes  \\\n",
      "0                                  0.0                  0.0   \n",
      "1                                  0.0                  0.0   \n",
      "2                                  0.0                  0.0   \n",
      "3                                  0.0                  0.0   \n",
      "4                                  0.0                  0.0   \n",
      "\n",
      "   Contract_Month-to-month  Contract_One year  Contract_Two year  \n",
      "0                      1.0                0.0                0.0  \n",
      "1                      0.0                1.0                0.0  \n",
      "2                      1.0                0.0                0.0  \n",
      "3                      0.0                1.0                0.0  \n",
      "4                      1.0                0.0                0.0  \n",
      "\n",
      "[5 rows x 46 columns]\n"
     ]
    }
   ],
   "source": [
    "from sklearn.preprocessing import StandardScaler, OneHotEncoder\n",
    "from sklearn.compose import ColumnTransformer\n",
    "from sklearn.pipeline import Pipeline\n",
    "from sklearn.impute import SimpleImputer\n",
    "\n",
    "# Define feature columns\n",
    "feature_cols = df.columns[:-1]\n",
    "\n",
    "# Preprocessing pipelines for numerical and categorical data\n",
    "numerical_features = ['tenure', 'MonthlyCharges', 'TotalCharges']\n",
    "categorical_features = list(set(feature_cols) - set(numerical_features))\n",
    "\n",
    "numerical_transformer = Pipeline(steps=[\n",
    "    ('imputer', SimpleImputer(strategy='median')),\n",
    "    ('scaler', StandardScaler())\n",
    "])\n",
    "\n",
    "categorical_transformer = Pipeline(steps=[\n",
    "    ('imputer', SimpleImputer(strategy='constant', fill_value='missing')),\n",
    "    ('onehot', OneHotEncoder(handle_unknown='ignore'))\n",
    "])\n",
    "\n",
    "preprocessor = ColumnTransformer(\n",
    "    transformers=[\n",
    "        ('num', numerical_transformer, numerical_features),\n",
    "        ('cat', categorical_transformer, categorical_features)\n",
    "    ])\n",
    "\n",
    "# Fit and transform the data\n",
    "X = df[feature_cols]\n",
    "X_preprocessed = preprocessor.fit_transform(X)\n",
    "\n",
    "# Convert the preprocessed features into a DataFrame for easy viewing\n",
    "feature_names = (numerical_features + \n",
    "                 list(preprocessor.transformers_[1][1].named_steps['onehot'].get_feature_names_out(categorical_features)))\n",
    "X_preprocessed_df = pd.DataFrame(X_preprocessed, columns=feature_names)\n",
    "\n",
    "# Display the preprocessed DataFrame\n",
    "print(X_preprocessed_df.head())"
   ]
  },
  {
   "cell_type": "code",
   "execution_count": 12,
   "metadata": {},
   "outputs": [],
   "source": [
    "X = df.drop('Churn', axis=1)\n",
    "y = df['Churn']"
   ]
  },
  {
   "cell_type": "code",
   "execution_count": 13,
   "metadata": {},
   "outputs": [
    {
     "data": {
      "text/html": [
       "<div>\n",
       "<style scoped>\n",
       "    .dataframe tbody tr th:only-of-type {\n",
       "        vertical-align: middle;\n",
       "    }\n",
       "\n",
       "    .dataframe tbody tr th {\n",
       "        vertical-align: top;\n",
       "    }\n",
       "\n",
       "    .dataframe thead th {\n",
       "        text-align: right;\n",
       "    }\n",
       "</style>\n",
       "<table border=\"1\" class=\"dataframe\">\n",
       "  <thead>\n",
       "    <tr style=\"text-align: right;\">\n",
       "      <th></th>\n",
       "      <th>gender</th>\n",
       "      <th>SeniorCitizen</th>\n",
       "      <th>Partner</th>\n",
       "      <th>Dependents</th>\n",
       "      <th>tenure</th>\n",
       "      <th>PhoneService</th>\n",
       "      <th>MultipleLines</th>\n",
       "      <th>InternetService</th>\n",
       "      <th>OnlineSecurity</th>\n",
       "      <th>OnlineBackup</th>\n",
       "      <th>DeviceProtection</th>\n",
       "      <th>TechSupport</th>\n",
       "      <th>StreamingTV</th>\n",
       "      <th>StreamingMovies</th>\n",
       "      <th>Contract</th>\n",
       "      <th>PaperlessBilling</th>\n",
       "      <th>PaymentMethod</th>\n",
       "      <th>MonthlyCharges</th>\n",
       "      <th>TotalCharges</th>\n",
       "    </tr>\n",
       "  </thead>\n",
       "  <tbody>\n",
       "    <tr>\n",
       "      <th>0</th>\n",
       "      <td>Female</td>\n",
       "      <td>0</td>\n",
       "      <td>Yes</td>\n",
       "      <td>No</td>\n",
       "      <td>1</td>\n",
       "      <td>No</td>\n",
       "      <td>No phone service</td>\n",
       "      <td>DSL</td>\n",
       "      <td>No</td>\n",
       "      <td>Yes</td>\n",
       "      <td>No</td>\n",
       "      <td>No</td>\n",
       "      <td>No</td>\n",
       "      <td>No</td>\n",
       "      <td>Month-to-month</td>\n",
       "      <td>Yes</td>\n",
       "      <td>Electronic check</td>\n",
       "      <td>29.85</td>\n",
       "      <td>29.85</td>\n",
       "    </tr>\n",
       "    <tr>\n",
       "      <th>1</th>\n",
       "      <td>Male</td>\n",
       "      <td>0</td>\n",
       "      <td>No</td>\n",
       "      <td>No</td>\n",
       "      <td>34</td>\n",
       "      <td>Yes</td>\n",
       "      <td>No</td>\n",
       "      <td>DSL</td>\n",
       "      <td>Yes</td>\n",
       "      <td>No</td>\n",
       "      <td>Yes</td>\n",
       "      <td>No</td>\n",
       "      <td>No</td>\n",
       "      <td>No</td>\n",
       "      <td>One year</td>\n",
       "      <td>No</td>\n",
       "      <td>Mailed check</td>\n",
       "      <td>56.95</td>\n",
       "      <td>1889.50</td>\n",
       "    </tr>\n",
       "    <tr>\n",
       "      <th>2</th>\n",
       "      <td>Male</td>\n",
       "      <td>0</td>\n",
       "      <td>No</td>\n",
       "      <td>No</td>\n",
       "      <td>2</td>\n",
       "      <td>Yes</td>\n",
       "      <td>No</td>\n",
       "      <td>DSL</td>\n",
       "      <td>Yes</td>\n",
       "      <td>Yes</td>\n",
       "      <td>No</td>\n",
       "      <td>No</td>\n",
       "      <td>No</td>\n",
       "      <td>No</td>\n",
       "      <td>Month-to-month</td>\n",
       "      <td>Yes</td>\n",
       "      <td>Mailed check</td>\n",
       "      <td>53.85</td>\n",
       "      <td>108.15</td>\n",
       "    </tr>\n",
       "    <tr>\n",
       "      <th>3</th>\n",
       "      <td>Male</td>\n",
       "      <td>0</td>\n",
       "      <td>No</td>\n",
       "      <td>No</td>\n",
       "      <td>45</td>\n",
       "      <td>No</td>\n",
       "      <td>No phone service</td>\n",
       "      <td>DSL</td>\n",
       "      <td>Yes</td>\n",
       "      <td>No</td>\n",
       "      <td>Yes</td>\n",
       "      <td>Yes</td>\n",
       "      <td>No</td>\n",
       "      <td>No</td>\n",
       "      <td>One year</td>\n",
       "      <td>No</td>\n",
       "      <td>Bank transfer (automatic)</td>\n",
       "      <td>42.30</td>\n",
       "      <td>1840.75</td>\n",
       "    </tr>\n",
       "    <tr>\n",
       "      <th>4</th>\n",
       "      <td>Female</td>\n",
       "      <td>0</td>\n",
       "      <td>No</td>\n",
       "      <td>No</td>\n",
       "      <td>2</td>\n",
       "      <td>Yes</td>\n",
       "      <td>No</td>\n",
       "      <td>Fiber optic</td>\n",
       "      <td>No</td>\n",
       "      <td>No</td>\n",
       "      <td>No</td>\n",
       "      <td>No</td>\n",
       "      <td>No</td>\n",
       "      <td>No</td>\n",
       "      <td>Month-to-month</td>\n",
       "      <td>Yes</td>\n",
       "      <td>Electronic check</td>\n",
       "      <td>70.70</td>\n",
       "      <td>151.65</td>\n",
       "    </tr>\n",
       "  </tbody>\n",
       "</table>\n",
       "</div>"
      ],
      "text/plain": [
       "   gender  SeniorCitizen Partner Dependents  tenure PhoneService  \\\n",
       "0  Female              0     Yes         No       1           No   \n",
       "1    Male              0      No         No      34          Yes   \n",
       "2    Male              0      No         No       2          Yes   \n",
       "3    Male              0      No         No      45           No   \n",
       "4  Female              0      No         No       2          Yes   \n",
       "\n",
       "      MultipleLines InternetService OnlineSecurity OnlineBackup  \\\n",
       "0  No phone service             DSL             No          Yes   \n",
       "1                No             DSL            Yes           No   \n",
       "2                No             DSL            Yes          Yes   \n",
       "3  No phone service             DSL            Yes           No   \n",
       "4                No     Fiber optic             No           No   \n",
       "\n",
       "  DeviceProtection TechSupport StreamingTV StreamingMovies        Contract  \\\n",
       "0               No          No          No              No  Month-to-month   \n",
       "1              Yes          No          No              No        One year   \n",
       "2               No          No          No              No  Month-to-month   \n",
       "3              Yes         Yes          No              No        One year   \n",
       "4               No          No          No              No  Month-to-month   \n",
       "\n",
       "  PaperlessBilling              PaymentMethod  MonthlyCharges  TotalCharges  \n",
       "0              Yes           Electronic check           29.85         29.85  \n",
       "1               No               Mailed check           56.95       1889.50  \n",
       "2              Yes               Mailed check           53.85        108.15  \n",
       "3               No  Bank transfer (automatic)           42.30       1840.75  \n",
       "4              Yes           Electronic check           70.70        151.65  "
      ]
     },
     "execution_count": 13,
     "metadata": {},
     "output_type": "execute_result"
    }
   ],
   "source": [
    "\n",
    "X.head()"
   ]
  },
  {
   "cell_type": "code",
   "execution_count": 14,
   "metadata": {},
   "outputs": [
    {
     "data": {
      "text/plain": [
       "0     No\n",
       "1     No\n",
       "2    Yes\n",
       "3     No\n",
       "4    Yes\n",
       "Name: Churn, dtype: object"
      ]
     },
     "execution_count": 14,
     "metadata": {},
     "output_type": "execute_result"
    }
   ],
   "source": [
    "y.head()"
   ]
  },
  {
   "cell_type": "code",
   "execution_count": 15,
   "metadata": {},
   "outputs": [],
   "source": [
    "# If the target column has Yes it is encoded as 1 others as 0\n",
    "y= np.where(y=='Yes', 1,0)"
   ]
  },
  {
   "cell_type": "code",
   "execution_count": 16,
   "metadata": {},
   "outputs": [
    {
     "data": {
      "text/plain": [
       "array([0, 0, 1, ..., 0, 1, 0])"
      ]
     },
     "execution_count": 16,
     "metadata": {},
     "output_type": "execute_result"
    }
   ],
   "source": [
    "y"
   ]
  },
  {
   "cell_type": "code",
   "execution_count": 17,
   "metadata": {},
   "outputs": [
    {
     "data": {
      "image/png": "[encoded data removed]",
      "text/plain": [
       "<Figure size 1200x600 with 4 Axes>"
      ]
     },
     "metadata": {},
     "output_type": "display_data"
    }
   ],
   "source": [
    "# distribution of data before scaling\n",
    "plt.figure(figsize=(12, 6))\n",
    "for i, col in enumerate(['tenure','MonthlyCharges','TotalCharges', 'SeniorCitizen']):\n",
    "    plt.subplot(2, 2, i+1)\n",
    "    sns.histplot(x=X[col], color='indianred')\n",
    "    plt.xlabel(col)\n",
    "    plt.tight_layout()"
   ]
  },
  {
   "cell_type": "code",
   "execution_count": 25,
   "metadata": {},
   "outputs": [
    {
     "data": {
      "text/plain": [
       "tenure            0.239540\n",
       "MonthlyCharges   -0.220524\n",
       "TotalCharges      0.963235\n",
       "dtype: float64"
      ]
     },
     "execution_count": 25,
     "metadata": {},
     "output_type": "execute_result"
    }
   ],
   "source": [
    "# Check Skewness\n",
    "X[continuous_features].skew(axis=0, skipna=True)"
   ]
  },
  {
   "cell_type": "code",
   "execution_count": 24,
   "metadata": {},
   "outputs": [
    {
     "name": "stdout",
     "output_type": "stream",
     "text": [
      "Num of Continuous Features : 3\n"
     ]
    }
   ],
   "source": [
    "continuous_features=[feature for feature in num_features if feature not in discrete_features]\n",
    "print('Num of Continuous Features :',len(continuous_features))"
   ]
  },
  {
   "cell_type": "code",
   "execution_count": 23,
   "metadata": {},
   "outputs": [
    {
     "name": "stdout",
     "output_type": "stream",
     "text": [
      "Num of Discrete Features : 1\n"
     ]
    }
   ],
   "source": [
    "discrete_features=[feature for feature in num_features if len(df[feature].unique())<=25]\n",
    "print('Num of Discrete Features :',len(discrete_features))"
   ]
  },
  {
   "cell_type": "code",
   "execution_count": 21,
   "metadata": {},
   "outputs": [
    {
     "name": "stdout",
     "output_type": "stream",
     "text": [
      "Num of Categorical Features : 16\n"
     ]
    }
   ],
   "source": [
    "cat_features = [feature for feature in df.columns if df[feature].dtype == 'O']\n",
    "print('Num of Categorical Features :', len(cat_features))"
   ]
  },
  {
   "cell_type": "code",
   "execution_count": 22,
   "metadata": {},
   "outputs": [
    {
     "name": "stdout",
     "output_type": "stream",
     "text": [
      "Num of Numerical Features : 4\n"
     ]
    }
   ],
   "source": [
    "num_features = [feature for feature in df.columns if df[feature].dtype != 'O']\n",
    "print('Num of Numerical Features :', len(num_features))"
   ]
  },
  {
   "cell_type": "code",
   "execution_count": 26,
   "metadata": {},
   "outputs": [
    {
     "name": "stdout",
     "output_type": "stream",
     "text": [
      "Original Skewness:\n",
      " tenure            0.239489\n",
      "MonthlyCharges   -0.220477\n",
      "TotalCharges      0.963029\n",
      "dtype: float64\n",
      "\n",
      "Log Transformation Skewness:\n",
      " tenure_log           -0.778204\n",
      "MonthlyCharges_log   -0.718864\n",
      "TotalCharges_log     -0.824282\n",
      "dtype: float64\n",
      "\n",
      "Square Root Transformation Skewness:\n",
      " tenure_sqrt           -0.235949\n",
      "MonthlyCharges_sqrt   -0.484454\n",
      "TotalCharges_sqrt      0.307655\n",
      "dtype: float64\n",
      "\n",
      "Box-Cox Transformation Skewness:\n",
      " tenure_boxcox           -0.243273\n",
      "MonthlyCharges_boxcox   -0.258980\n",
      "TotalCharges_boxcox     -0.146089\n",
      "dtype: float64\n",
      "\n",
      "Yeo-Johnson Transformation Skewness:\n",
      " tenure_yeo           -0.243273\n",
      "MonthlyCharges_yeo   -0.258980\n",
      "TotalCharges_yeo     -0.146089\n",
      "dtype: float64\n",
      "\n",
      "Reciprocal Transformation Skewness:\n",
      " tenure_reciprocal             2.105967\n",
      "MonthlyCharges_reciprocal     1.092590\n",
      "TotalCharges_reciprocal      23.550271\n",
      "dtype: float64\n"
     ]
    }
   ],
   "source": [
    "from scipy.stats import skew, boxcox\n",
    "from sklearn.preprocessing import PowerTransformer\n",
    "\n",
    "# Calculate original skewness\n",
    "original_skewness = df[['tenure', 'MonthlyCharges', 'TotalCharges']].apply(skew)\n",
    "print(\"Original Skewness:\\n\", original_skewness)\n",
    "\n",
    "# Log Transformation\n",
    "df['tenure_log'] = np.log1p(df['tenure'])\n",
    "df['MonthlyCharges_log'] = np.log1p(df['MonthlyCharges'])\n",
    "df['TotalCharges_log'] = np.log1p(df['TotalCharges'])\n",
    "log_skewness = df[['tenure_log', 'MonthlyCharges_log', 'TotalCharges_log']].apply(skew)\n",
    "print(\"\\nLog Transformation Skewness:\\n\", log_skewness)\n",
    "\n",
    "# Square Root Transformation\n",
    "df['tenure_sqrt'] = np.sqrt(df['tenure'])\n",
    "df['MonthlyCharges_sqrt'] = np.sqrt(df['MonthlyCharges'])\n",
    "df['TotalCharges_sqrt'] = np.sqrt(df['TotalCharges'])\n",
    "sqrt_skewness = df[['tenure_sqrt', 'MonthlyCharges_sqrt', 'TotalCharges_sqrt']].apply(skew)\n",
    "print(\"\\nSquare Root Transformation Skewness:\\n\", sqrt_skewness)\n",
    "\n",
    "# Box-Cox Transformation\n",
    "df['TotalCharges_boxcox'], _ = boxcox(df['TotalCharges'] + 1)\n",
    "df['tenure_boxcox'], _ = boxcox(df['tenure'] + 1)\n",
    "df['MonthlyCharges_boxcox'], _ = boxcox(df['MonthlyCharges'] + 1)\n",
    "boxcox_skewness = df[['tenure_boxcox', 'MonthlyCharges_boxcox', 'TotalCharges_boxcox']].apply(skew)\n",
    "print(\"\\nBox-Cox Transformation Skewness:\\n\", boxcox_skewness)\n",
    "\n",
    "# Yeo-Johnson Transformation\n",
    "pt = PowerTransformer(method='yeo-johnson')\n",
    "df[['tenure_yeo', 'MonthlyCharges_yeo', 'TotalCharges_yeo']] = pt.fit_transform(df[['tenure', 'MonthlyCharges', 'TotalCharges']])\n",
    "yeo_skewness = df[['tenure_yeo', 'MonthlyCharges_yeo', 'TotalCharges_yeo']].apply(skew)\n",
    "print(\"\\nYeo-Johnson Transformation Skewness:\\n\", yeo_skewness)\n",
    "\n",
    "# Reciprocal Transformation\n",
    "df['tenure_reciprocal'] = 1 / (df['tenure'] + 1)\n",
    "df['MonthlyCharges_reciprocal'] = 1 / (df['MonthlyCharges'] + 1)\n",
    "df['TotalCharges_reciprocal'] = 1 / (df['TotalCharges'] + 1)\n",
    "reciprocal_skewness = df[['tenure_reciprocal', 'MonthlyCharges_reciprocal', 'TotalCharges_reciprocal']].apply(skew)\n",
    "print(\"\\nReciprocal Transformation Skewness:\\n\", reciprocal_skewness)"
   ]
  },
  {
   "cell_type": "code",
   "execution_count": 27,
   "metadata": {},
   "outputs": [
    {
     "name": "stdout",
     "output_type": "stream",
     "text": [
      "gender : 2\n",
      "Partner : 2\n",
      "Dependents : 2\n",
      "PhoneService : 2\n",
      "MultipleLines : 3\n",
      "InternetService : 3\n",
      "OnlineSecurity : 3\n",
      "OnlineBackup : 3\n",
      "DeviceProtection : 3\n",
      "TechSupport : 3\n",
      "StreamingTV : 3\n",
      "StreamingMovies : 3\n",
      "Contract : 3\n",
      "PaperlessBilling : 2\n",
      "PaymentMethod : 4\n",
      "Churn : 2\n"
     ]
    }
   ],
   "source": [
    "for feature in cat_features:\n",
    "    print(feature,':', df[feature].nunique())"
   ]
  },
  {
   "cell_type": "code",
   "execution_count": 28,
   "metadata": {},
   "outputs": [],
   "source": [
    "num_features = list(X.select_dtypes(exclude=\"object\").columns)"
   ]
  },
  {
   "cell_type": "code",
   "execution_count": 29,
   "metadata": {},
   "outputs": [
    {
     "data": {
      "text/plain": [
       "['SeniorCitizen', 'tenure', 'MonthlyCharges', 'TotalCharges']"
      ]
     },
     "execution_count": 29,
     "metadata": {},
     "output_type": "execute_result"
    }
   ],
   "source": [
    "num_features"
   ]
  },
  {
   "cell_type": "code",
   "execution_count": 30,
   "metadata": {},
   "outputs": [
    {
     "name": "stdout",
     "output_type": "stream",
     "text": [
      "   gender_Female  gender_Male  Partner_No  Partner_Yes  Dependents_No  \\\n",
      "0            1.0          0.0         0.0          1.0            1.0   \n",
      "1            0.0          1.0         1.0          0.0            1.0   \n",
      "2            0.0          1.0         1.0          0.0            1.0   \n",
      "3            0.0          1.0         1.0          0.0            1.0   \n",
      "4            1.0          0.0         1.0          0.0            1.0   \n",
      "\n",
      "   Dependents_Yes  PhoneService_No  PhoneService_Yes  MultipleLines_No  \\\n",
      "0             0.0              1.0               0.0               0.0   \n",
      "1             0.0              0.0               1.0               1.0   \n",
      "2             0.0              0.0               1.0               1.0   \n",
      "3             0.0              1.0               0.0               0.0   \n",
      "4             0.0              0.0               1.0               1.0   \n",
      "\n",
      "   MultipleLines_No phone service  ...  PaperlessBilling_No  \\\n",
      "0                             1.0  ...                  0.0   \n",
      "1                             0.0  ...                  1.0   \n",
      "2                             0.0  ...                  0.0   \n",
      "3                             1.0  ...                  1.0   \n",
      "4                             0.0  ...                  0.0   \n",
      "\n",
      "   PaperlessBilling_Yes  PaymentMethod_Bank transfer (automatic)  \\\n",
      "0                   1.0                                      0.0   \n",
      "1                   0.0                                      0.0   \n",
      "2                   1.0                                      0.0   \n",
      "3                   0.0                                      1.0   \n",
      "4                   1.0                                      0.0   \n",
      "\n",
      "   PaymentMethod_Credit card (automatic)  PaymentMethod_Electronic check  \\\n",
      "0                                    0.0                             1.0   \n",
      "1                                    0.0                             0.0   \n",
      "2                                    0.0                             0.0   \n",
      "3                                    0.0                             0.0   \n",
      "4                                    0.0                             1.0   \n",
      "\n",
      "   PaymentMethod_Mailed check    tenure  MonthlyCharges  TotalCharges  \\\n",
      "0                         0.0 -1.644343       -1.158541     -1.792996   \n",
      "1                         1.0  0.297205       -0.239492      0.254809   \n",
      "2                         1.0 -1.495444       -0.342665     -1.375173   \n",
      "3                         0.0  0.646327       -0.731079      0.233807   \n",
      "4                         0.0 -1.495444        0.213545     -1.239490   \n",
      "\n",
      "   SeniorCitizen  \n",
      "0      -0.439916  \n",
      "1      -0.439916  \n",
      "2      -0.439916  \n",
      "3      -0.439916  \n",
      "4      -0.439916  \n",
      "\n",
      "[5 rows x 45 columns]\n"
     ]
    }
   ],
   "source": [
    "# Define column groups\n",
    "categorical_columns = ['gender', 'Partner', 'Dependents', 'PhoneService', 'MultipleLines', 'InternetService', \n",
    "                       'OnlineSecurity', 'OnlineBackup', 'DeviceProtection', 'TechSupport', 'StreamingTV', \n",
    "                       'StreamingMovies', 'Contract', 'PaperlessBilling', 'PaymentMethod']\n",
    "\n",
    "skewed_numerical_columns = ['tenure', 'MonthlyCharges', 'TotalCharges']\n",
    "other_numerical_columns = ['SeniorCitizen']\n",
    "\n",
    "# Define preprocessors\n",
    "categorical_transformer = OneHotEncoder(handle_unknown='ignore')\n",
    "\n",
    "skewed_numerical_transformer = Pipeline(steps=[\n",
    "    ('yeo-johnson', PowerTransformer(method='yeo-johnson')),\n",
    "    ('scaler', StandardScaler())\n",
    "])\n",
    "\n",
    "other_numerical_transformer = StandardScaler()\n",
    "\n",
    "# Define ColumnTransformer\n",
    "preprocessor = ColumnTransformer(\n",
    "    transformers=[\n",
    "        ('onehot', categorical_transformer, categorical_columns),\n",
    "        ('skewed_num', skewed_numerical_transformer, skewed_numerical_columns),\n",
    "        ('num', other_numerical_transformer, other_numerical_columns)\n",
    "    ])\n",
    "\n",
    "X_preprocessed = preprocessor.fit_transform(X)\n",
    "\n",
    "# Convert the preprocessed features into a DataFrame for easy viewing\n",
    "# Get feature names for the onehot encoded columns\n",
    "onehot_feature_names = preprocessor.named_transformers_['onehot'].get_feature_names_out(categorical_columns)\n",
    "feature_names = list(onehot_feature_names) + skewed_numerical_columns + other_numerical_columns\n",
    "X = pd.DataFrame(X_preprocessed, columns=feature_names)\n",
    "#X_preprocessed_df = pd.DataFrame(X_preprocessed, columns=feature_names)\n",
    "\n",
    "# Display the preprocessed DataFrame\n",
    "print(X.head())"
   ]
  },
  {
   "cell_type": "code",
   "execution_count": null,
   "metadata": {},
   "outputs": [],
   "source": [
    "from imblearn.combine import SMOTETomek, SMOTEENN\n",
    "\n",
    "# Resampling the minority class. The strategy can be changed as required.\n",
    "smt = SMOTEENN(random_state=42,sampling_strategy='minority' )\n",
    "# Fit the model to generate the data.\n",
    "X_res, y_res = smt.fit_resample(X, y)"
   ]
  },
  {
   "cell_type": "code",
   "execution_count": null,
   "metadata": {},
   "outputs": [],
   "source": []
  },
  {
   "cell_type": "code",
   "execution_count": null,
   "metadata": {},
   "outputs": [],
   "source": []
  },
  {
   "cell_type": "code",
   "execution_count": null,
   "metadata": {},
   "outputs": [],
   "source": []
  },
  {
   "cell_type": "code",
   "execution_count": null,
   "metadata": {},
   "outputs": [],
   "source": []
  },
  {
   "cell_type": "code",
   "execution_count": null,
   "metadata": {},
   "outputs": [],
   "source": []
  }
 ],
 "metadata": {
  "kernelspec": {
   "display_name": "Python 3",
   "language": "python",
   "name": "python3"
  },
  "language_info": {
   "codemirror_mode": {
    "name": "ipython",
    "version": 3
   },
   "file_extension": ".py",
   "mimetype": "text/x-python",
   "name": "python",
   "nbconvert_exporter": "python",
   "pygments_lexer": "ipython3",
   "version": "3.8.20"
  }
 },
 "nbformat": 4,
 "nbformat_minor": 2
}
